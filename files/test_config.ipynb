{
  "metadata": {
    "kernelspec": {
      "name": "python",
      "display_name": "Python (Pyodide)",
      "language": "python"
    },
    "language_info": {
      "codemirror_mode": {
        "name": "python",
        "version": 3
      },
      "file_extension": ".py",
      "mimetype": "text/x-python",
      "name": "python",
      "nbconvert_exporter": "python",
      "pygments_lexer": "ipython3",
      "version": "3.8"
    }
  },
  "nbformat_minor": 5,
  "nbformat": 4,
  "cells": [
    {
      "id": "4de8957a-370b-4b7b-9c8a-d389df754be9",
      "cell_type": "code",
      "source": "from ROTOR.utils import config\nfrom importlib import reload",
      "metadata": {
        "trusted": true
      },
      "outputs": [],
      "execution_count": 8
    },
    {
      "id": "9c3cbf42-010f-4fbd-a5ba-eadace2962e6",
      "cell_type": "code",
      "source": "import micropip\nawait micropip.install('numpy')\nawait micropip.install('scipy')",
      "metadata": {
        "trusted": true
      },
      "outputs": [],
      "execution_count": 6
    },
    {
      "id": "0e631ad0-954e-46d4-97ad-30564d82910a",
      "cell_type": "code",
      "source": "config.jupyter_load_config()\nfrom ROTOR.utils import weather\nweather.load_from_lat_lon({'lat':55,'lon':10})",
      "metadata": {
        "trusted": true
      },
      "outputs": [],
      "execution_count": 23
    },
    {
      "id": "6e5d0005-d29c-4f21-91a4-a7a05fd4fc40",
      "cell_type": "code",
      "source": "from ROTOR.crops import LEG_GRAS\nreload(LEG_GRAS)\n\n",
      "metadata": {
        "trusted": true
      },
      "outputs": [
        {
          "execution_count": 28,
          "output_type": "execute_result",
          "data": {
            "text/plain": "<module 'ROTOR.crops.LEG_GRAS' from '/drive/ROTOR/crops/LEG_GRAS.py'>"
          },
          "metadata": {}
        }
      ],
      "execution_count": 28
    },
    {
      "id": "8f48278f-fbfe-4e7a-9f2d-f27a8e66a10c",
      "cell_type": "code",
      "source": "l=LEG_GRAS.LEG_GRAS()",
      "metadata": {
        "trusted": true
      },
      "outputs": [],
      "execution_count": 29
    },
    {
      "id": "0ad868ab-43da-403c-abdf-fbc003300c24",
      "cell_type": "code",
      "source": "from ROTOR.utils import find_crops",
      "metadata": {
        "trusted": true
      },
      "outputs": [],
      "execution_count": 35
    },
    {
      "id": "3c49b008-1e18-469a-92b8-add126c30b17",
      "cell_type": "code",
      "source": "find_crops.get_crop_dict()",
      "metadata": {
        "trusted": true
      },
      "outputs": [
        {
          "name": "stdout",
          "output_type": "stream",
          "text": "<class 'ROTOR.crops.ACK_BOHNE.ACK_BOHNE'> True <class 'ROTOR.crops.ACK_BOHNE.ACK_BOHNE'> <class 'ROTOR.crop.Crop'>\n<class 'ROTOR.crops.DINKEL.DINKEL'> True <class 'ROTOR.crops.DINKEL.DINKEL'> <class 'ROTOR.crop.Crop'>\n<class 'ROTOR.crops.FTTR_ERBSE.FTTR_ERBSE'> True <class 'ROTOR.crops.FTTR_ERBSE.FTTR_ERBSE'> <class 'ROTOR.crop.Crop'>\n<class 'ROTOR.crops.FTTR_RUEBE.FTTR_RUEBE'> True <class 'ROTOR.crops.FTTR_RUEBE.FTTR_RUEBE'> <class 'ROTOR.crop.Crop'>\n<class 'ROTOR.crops.HAFER.HAFER'> True <class 'ROTOR.crops.HAFER.HAFER'> <class 'ROTOR.crop.Crop'>\n<class 'ROTOR.crops.KRN_MAIS.KRN_MAIS'> True <class 'ROTOR.crops.KRN_MAIS.KRN_MAIS'> <class 'ROTOR.crop.Crop'>\n<class 'ROTOR.crops.LEG_GRAS.CutSelect'> False <class 'ROTOR.crops.LEG_GRAS.CutSelect'> <class 'ROTOR.crop.Crop'>\n<class 'ROTOR.crops.LEG_GRAS.LEG_GRAS'> True <class 'ROTOR.crops.LEG_GRAS.LEG_GRAS'> <class 'ROTOR.crop.Crop'>\n<class 'ROTOR.crops.LUPINE.LUPINE'> True <class 'ROTOR.crops.LUPINE.LUPINE'> <class 'ROTOR.crop.Crop'>\n<class 'ROTOR.crops.SM_GERST.SM_GERST'> True <class 'ROTOR.crops.SM_GERST.SM_GERST'> <class 'ROTOR.crop.Crop'>\n<class 'ROTOR.crops.SM_WEIZEN.SM_WEIZEN'> True <class 'ROTOR.crops.SM_WEIZEN.SM_WEIZEN'> <class 'ROTOR.crop.Crop'>\n<class 'ROTOR.crops.SOJA.SOJA'> True <class 'ROTOR.crops.SOJA.SOJA'> <class 'ROTOR.crop.Crop'>\n<class 'ROTOR.crops.SP_KART.SP_KART'> True <class 'ROTOR.crops.SP_KART.SP_KART'> <class 'ROTOR.crop.Crop'>\n<class 'ROTOR.crops.TRITICALE.TRITICALE'> True <class 'ROTOR.crops.TRITICALE.TRITICALE'> <class 'ROTOR.crop.Crop'>\n<class 'ROTOR.crops.WN_GERSTE.WN_GERSTE'> True <class 'ROTOR.crops.WN_GERSTE.WN_GERSTE'> <class 'ROTOR.crop.Crop'>\n<class 'ROTOR.crops.WN_ROGGEN.WN_ROGGEN'> True <class 'ROTOR.crops.WN_ROGGEN.WN_ROGGEN'> <class 'ROTOR.crop.Crop'>\n<class 'ROTOR.crops.WN_WEIZEN.WN_WEIZEN'> True <class 'ROTOR.crops.WN_WEIZEN.WN_WEIZEN'> <class 'ROTOR.crop.Crop'>\n<class 'ROTOR.crops.ZUCKER_RUEBE.ZUCKER_RUEBE'> True <class 'ROTOR.crops.ZUCKER_RUEBE.ZUCKER_RUEBE'> <class 'ROTOR.crop.Crop'>\n<class 'ROTOR.crops.ZWIBELN.ZWIBELN'> True <class 'ROTOR.crops.ZWIBELN.ZWIBELN'> <class 'ROTOR.crop.Crop'>\n"
        },
        {
          "execution_count": 37,
          "output_type": "execute_result",
          "data": {
            "text/plain": "{'ACK_BOHNE': ROTOR.crops.ACK_BOHNE.ACK_BOHNE,\n 'DINKEL': ROTOR.crops.DINKEL.DINKEL,\n 'FTTR_ERBSE': ROTOR.crops.FTTR_ERBSE.FTTR_ERBSE,\n 'FTTR_RUEBE': ROTOR.crops.FTTR_RUEBE.FTTR_RUEBE,\n 'HAFER': ROTOR.crops.HAFER.HAFER,\n 'KRN_MAIS': ROTOR.crops.KRN_MAIS.KRN_MAIS,\n 'CutSelect': ROTOR.crops.LEG_GRAS.CutSelect,\n 'LEG_GRAS': ROTOR.crops.LEG_GRAS.LEG_GRAS,\n 'LUPINE': ROTOR.crops.LUPINE.LUPINE,\n 'SM_GERST': ROTOR.crops.SM_GERST.SM_GERST,\n 'SM_WEIZEN': ROTOR.crops.SM_WEIZEN.SM_WEIZEN,\n 'SOJA': ROTOR.crops.SOJA.SOJA,\n 'SP_KART': ROTOR.crops.SP_KART.SP_KART,\n 'TRITICALE': ROTOR.crops.TRITICALE.TRITICALE,\n 'WN_GERSTE': ROTOR.crops.WN_GERSTE.WN_GERSTE,\n 'WN_ROGGEN': ROTOR.crops.WN_ROGGEN.WN_ROGGEN,\n 'WN_WEIZEN': ROTOR.crops.WN_WEIZEN.WN_WEIZEN,\n 'ZUCKER_RUEBE': ROTOR.crops.ZUCKER_RUEBE.ZUCKER_RUEBE,\n 'ZWIBELN': ROTOR.crops.ZWIBELN.ZWIBELN}"
          },
          "metadata": {}
        }
      ],
      "execution_count": 37
    },
    {
      "id": "289b9795-9234-4199-a73c-f00a71db2645",
      "cell_type": "code",
      "source": "l.cut_sel.get_cut1.visible",
      "metadata": {
        "trusted": true
      },
      "outputs": [
        {
          "execution_count": 33,
          "output_type": "execute_result",
          "data": {
            "text/plain": "True"
          },
          "metadata": {}
        }
      ],
      "execution_count": 33
    },
    {
      "id": "99a0523e-4e43-4f0f-8c0b-64996b662433",
      "cell_type": "code",
      "source": "l.serialize_model_values()",
      "metadata": {
        "trusted": true
      },
      "outputs": [
        {
          "name": "stdout",
          "output_type": "stream",
          "text": "{'Boden': 46.5, 'TRM': 0.0, 'GTS_T_sum': 0.0, 'GTS_W_tag': False, 'HETT': 0.0, 'last_cut': 0, 'cur_growth': 0.0, 'cuts': []} LEGRAY\ncut 1 149 4.812915093247018\ncut 2 190 3.34948271463531\ncut 3 239 3.081427984586855\ncut 4 286 1.3818770217877778\n[(1, 149, np.float64(4.812915093247018)), (2, 190, np.float64(3.34948271463531)), (3, 239, np.float64(3.081427984586855)), (4, 286, np.float64(1.3818770217877778))]\n{'Boden': 46.5, 'TRM': 0.0, 'GTS_T_sum': 0.0, 'GTS_W_tag': False, 'HETT': 0.0, 'last_cut': 0, 'cur_growth': 0.0, 'cuts': []} LEGRAY\ncut 1 149 4.812915093247018\ncut 2 190 3.34948271463531\ncut 3 239 3.081427984586855\ncut 4 286 1.3818770217877778\n[(1, 149, np.float64(4.812915093247018)), (2, 190, np.float64(3.34948271463531)), (3, 239, np.float64(3.081427984586855)), (4, 286, np.float64(1.3818770217877778))]\n"
        },
        {
          "execution_count": 30,
          "output_type": "execute_result",
          "data": {
            "text/plain": "{'schnitt_menge': {'name': 'schnitt_menge',\n  'tab': 'schnitt_tab',\n  'type': '',\n  'visible': False,\n  'schnitt_menge': {'1': {'yield': 48.12,\n    'nutz': 'grünfutter',\n    'date': 'MAI2'},\n   '2': {'yield': 33.49, 'nutz': 'grünfutter', 'date': 'JUL1'},\n   '3': {'yield': 30.81, 'nutz': 'grünfutter', 'date': 'AUG2'},\n   '4': {'yield': 13.81, 'nutz': 'grünfutter', 'date': 'OKT1'}},\n  'name_corrected': 'schnitt_menge_corrected',\n  'schnitt_menge_corrected': {'1': {'yield': 48.12,\n    'nutz': 'grünfutter',\n    'date': 'MAI2'},\n   '2': {'yield': 33.49, 'nutz': 'grünfutter', 'date': 'JUL1'},\n   '3': {'yield': 30.81, 'nutz': 'grünfutter', 'date': 'AUG2'},\n   '4': {'yield': 13.81, 'nutz': 'grünfutter', 'date': 'OKT1'}}},\n 'seed_kg_per_ha': {'name': 'seed_kg_per_ha',\n  'tab': 'anbau_tab',\n  'type': '',\n  'visible': True,\n  'seed_kg_per_ha': 200,\n  'name_corrected': 'seed_kg_per_ha_corrected',\n  'seed_kg_per_ha_corrected': 200},\n 'cut_select': {'num_cuts': {'name': 'num_cuts',\n   'tab': '',\n   'type': '',\n   'visible': True,\n   'num_cuts': 3,\n   'name_corrected': 'num_cuts_corrected',\n   'num_cuts_corrected': 3},\n  'cut1': {'name': 'cut1',\n   'tab': '',\n   'type': '',\n   'visible': True,\n   'cut1': 48.12,\n   'name_corrected': 'cut1_corrected',\n   'cut1_corrected': 48.12},\n  'cut2': {'name': 'cut2',\n   'tab': '',\n   'type': '',\n   'visible': True,\n   'cut2': 33.49,\n   'name_corrected': 'cut2_corrected',\n   'cut2_corrected': 33.49},\n  'cut3': {'name': 'cut3',\n   'tab': '',\n   'type': '',\n   'visible': True,\n   'cut3': 30.81,\n   'name_corrected': 'cut3_corrected',\n   'cut3_corrected': 30.81},\n  'cut4': {'name': 'cut4',\n   'tab': '',\n   'type': '',\n   'visible': True,\n   'cut4': 13.81,\n   'name_corrected': 'cut4_corrected',\n   'cut4_corrected': 13.81},\n  'cut5': {'name': 'cut5',\n   'tab': '',\n   'type': '',\n   'visible': True,\n   'cut5': 15,\n   'name_corrected': 'cut5_corrected',\n   'cut5_corrected': 15}}}"
          },
          "metadata": {}
        }
      ],
      "execution_count": 30
    },
    {
      "id": "08818e64-15e4-4f3c-9aa8-b7a23be79d57",
      "cell_type": "code",
      "source": "",
      "metadata": {
        "trusted": true
      },
      "outputs": [],
      "execution_count": null
    }
  ]
}